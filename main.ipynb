{
 "cells": [
  {
   "cell_type": "code",
   "execution_count": null,
   "metadata": {},
   "outputs": [
    {
     "name": "stdout",
     "output_type": "stream",
     "text": [
      "/home/patryk/Documents/syntax-aware-language-model-for-code-generation/model_operations/training/models/t5-base-split1-epochs1-lossFalse\n"
     ]
    }
   ],
   "source": [
    "import os\n",
    "\n",
    "from pathlib import Path\n",
    "from datasets import load_dataset, Dataset\n",
    "\n",
    "from data_processing.preprocessors.preprocessor import PreprocessingPipeline\n",
    "from data_processing.preprocessors.preprocessor import RemoveComments\n",
    "from data_processing.preprocessors.preprocessor import SyntaxValidator\n",
    "from data_processing.preprocessors.preprocessor import DuplicateFilter\n",
    "from data_processing.preprocessors.preprocessor import Pep8Formatter\n",
    "\n",
    "from data_processing.pretokenizers.firstpretokenizer import FirstPretokenizer\n",
    "\n",
    "from data_processing.utils.pretokenize_all import pretokenize_all\n",
    "from data_processing.utils.docstring_and_code_filtering import doctring_and_code_filtering\n",
    "from data_processing.utils.data_loader import load_and_split_dataset\n",
    "from data_processing.utils.data_preparation import preprocess\n",
    "\n",
    "from model_operations.utils.model_utils import load_tokenizer\n",
    "\n",
    "from config import (\n",
    "    RUN_SEGEMENTATOR,\n",
    "    MODEL_NAME,\n",
    "    MAX_INPUT_LENGTH,\n",
    "    MAX_OUTPUT_LENGTH,\n",
    "    USE_CUSTOM_EOS,\n",
    "    EOS,\n",
    ")"
   ]
  },
  {
   "cell_type": "code",
   "execution_count": 3,
   "metadata": {},
   "outputs": [],
   "source": [
    "access_token = os.getenv(\"HUGGINGFACE_TOKEN\")"
   ]
  },
  {
   "cell_type": "markdown",
   "metadata": {},
   "source": [
    "# Intro"
   ]
  },
  {
   "cell_type": "markdown",
   "metadata": {},
   "source": [
    "This is a simple yet powerfull step by step guideline for reproducing our results. The repository contains code for experimenting with a custom training method for the T5 language model, aimed at improving its performance in code generation tasks."
   ]
  },
  {
   "cell_type": "markdown",
   "metadata": {},
   "source": [
    "# Dataset preperation"
   ]
  },
  {
   "cell_type": "markdown",
   "metadata": {},
   "source": [
    "Download and truncate the raw dataset to the desired size."
   ]
  },
  {
   "cell_type": "code",
   "execution_count": 19,
   "metadata": {},
   "outputs": [
    {
     "name": "stdout",
     "output_type": "stream",
     "text": [
      "Number of samples before cleaning: 10000\n"
     ]
    }
   ],
   "source": [
    "dataset = load_dataset(\"Nan-Do/code-search-net-python\", token=access_token)[\"train\"]\n",
    "dataset = dataset.select(range(10000))\n",
    "print(\"Number of samples before cleaning:\", len(dataset))"
   ]
  },
  {
   "cell_type": "markdown",
   "metadata": {},
   "source": [
    "Clean the samples by removing comments, formatting them to the PEP8 standard, and getting rid of syntactically incorrect samples and duplicates."
   ]
  },
  {
   "cell_type": "code",
   "execution_count": 20,
   "metadata": {},
   "outputs": [
    {
     "name": "stdout",
     "output_type": "stream",
     "text": [
      "Number of samples after cleaning: 9899\n"
     ]
    }
   ],
   "source": [
    "pipeline = PreprocessingPipeline([\n",
    "    RemoveComments(),\n",
    "    DuplicateFilter(),\n",
    "    Pep8Formatter(),\n",
    "    SyntaxValidator()\n",
    "])\n",
    "\n",
    "data = pipeline.apply(dataset)\n",
    "\n",
    "print(\"Number of samples after cleaning:\", len(data))"
   ]
  },
  {
   "cell_type": "markdown",
   "metadata": {},
   "source": [
    "Load and apply the pretokenizer.\n",
    "\n",
    "The pretokenizer is simply an AST visitor that walks through the code structure and changes its string representation to match special tokens in the tokenizer, so they can be detected and translated into the proper token IDs"
   ]
  },
  {
   "cell_type": "code",
   "execution_count": 21,
   "metadata": {},
   "outputs": [
    {
     "name": "stderr",
     "output_type": "stream",
     "text": [
      "<unknown>:14: SyntaxWarning: invalid escape sequence '\\s'\n",
      "<unknown>:11: SyntaxWarning: invalid escape sequence '\\Z'\n",
      "<unknown>:3: SyntaxWarning: invalid escape sequence '\\('\n",
      "<unknown>:3: SyntaxWarning: invalid escape sequence '\\('\n",
      "<unknown>:3: SyntaxWarning: invalid escape sequence '\\.'\n",
      "<unknown>:4: SyntaxWarning: invalid escape sequence '\\}'\n",
      "<unknown>:4: SyntaxWarning: invalid escape sequence '\\.'\n",
      "<unknown>:4: SyntaxWarning: invalid escape sequence '\\.'\n",
      "<unknown>:3: SyntaxWarning: invalid escape sequence '\\('\n",
      "<unknown>:13: SyntaxWarning: invalid escape sequence '\\s'\n"
     ]
    }
   ],
   "source": [
    "pretokenizer = FirstPretokenizer(_use_dedent=True, _use_semantics=True)\n",
    "data = pretokenize_all(data, pretokenizer)"
   ]
  },
  {
   "cell_type": "markdown",
   "metadata": {},
   "source": [
    "Load and apply the semgmentator if specified.\n",
    "\n",
    "It allows for \"masking\" and helps the model capture local dependencies. It replaces each sample with a few new ones that have consistent code fragments masked out, and the labels are adjusted accordingly"
   ]
  },
  {
   "cell_type": "code",
   "execution_count": 22,
   "metadata": {},
   "outputs": [],
   "source": [
    "if RUN_SEGEMENTATOR:\n",
    "    data = ..."
   ]
  },
  {
   "cell_type": "markdown",
   "metadata": {},
   "source": [
    "Add custom eos token if specified."
   ]
  },
  {
   "cell_type": "code",
   "execution_count": 23,
   "metadata": {},
   "outputs": [],
   "source": [
    "if USE_CUSTOM_EOS:\n",
    "    for sample in data:\n",
    "        sample['parsed'] += EOS"
   ]
  },
  {
   "cell_type": "markdown",
   "metadata": {},
   "source": [
    "Let's filter out unnecessary columns."
   ]
  },
  {
   "cell_type": "code",
   "execution_count": null,
   "metadata": {},
   "outputs": [
    {
     "name": "stdout",
     "output_type": "stream",
     "text": [
      "Samples with ≤512 tokens: 9081 / 9899 (91.74%)\n"
     ]
    }
   ],
   "source": [
    "data = doctring_and_code_filtering(data)"
   ]
  },
  {
   "cell_type": "code",
   "execution_count": null,
   "metadata": {},
   "outputs": [],
   "source": [
    "# temporary \n",
    "with open(\"docstring_and_code.jsonl\", 'w') as f:\n",
    "    for sample in data:\n",
    "        f.write(f\"{sample}\\n\")"
   ]
  },
  {
   "cell_type": "markdown",
   "metadata": {},
   "source": [
    "Split the data into subsets."
   ]
  },
  {
   "cell_type": "code",
   "execution_count": null,
   "metadata": {},
   "outputs": [
    {
     "data": {
      "text/plain": [
       "{'train': Dataset({\n",
       "     features: ['docstring', 'parsed'],\n",
       "     num_rows: 748\n",
       " }),\n",
       " 'validation': Dataset({\n",
       "     features: ['docstring', 'parsed'],\n",
       "     num_rows: 94\n",
       " }),\n",
       " 'test': Dataset({\n",
       "     features: ['docstring', 'parsed'],\n",
       "     num_rows: 94\n",
       " })}"
      ]
     },
     "execution_count": 10,
     "metadata": {},
     "output_type": "execute_result"
    }
   ],
   "source": [
    "dataset_dict = load_and_split_dataset(data)"
   ]
  },
  {
   "cell_type": "markdown",
   "metadata": {},
   "source": [
    "The last step to complete data preparation is to adjust the sample length to the model's context window. We need to **load a tokenizer**."
   ]
  },
  {
   "cell_type": "code",
   "execution_count": 11,
   "metadata": {},
   "outputs": [],
   "source": [
    "tokenizer, specifics = load_tokenizer(MODEL_NAME, USE_CUSTOM_EOS, pretokenizer)\n",
    "if specifics:\n",
    "    semantic_start_id, semantic_end_id, code_token_ids, semantic_token_ids = specifics"
   ]
  },
  {
   "cell_type": "markdown",
   "metadata": {},
   "source": [
    "Perform tokenization and length adjustments."
   ]
  },
  {
   "cell_type": "code",
   "execution_count": 12,
   "metadata": {},
   "outputs": [
    {
     "data": {
      "application/vnd.jupyter.widget-view+json": {
       "model_id": "40cde47394d64675b2ecbb3ec75b115b",
       "version_major": 2,
       "version_minor": 0
      },
      "text/plain": [
       "Map:   0%|          | 0/748 [00:00<?, ? examples/s]"
      ]
     },
     "metadata": {},
     "output_type": "display_data"
    },
    {
     "data": {
      "application/vnd.jupyter.widget-view+json": {
       "model_id": "db7534e082ee4feb8b951c676fe21b83",
       "version_major": 2,
       "version_minor": 0
      },
      "text/plain": [
       "Map:   0%|          | 0/94 [00:00<?, ? examples/s]"
      ]
     },
     "metadata": {},
     "output_type": "display_data"
    },
    {
     "data": {
      "application/vnd.jupyter.widget-view+json": {
       "model_id": "c1cf253146dd4131b7929d16fcc77520",
       "version_major": 2,
       "version_minor": 0
      },
      "text/plain": [
       "Map:   0%|          | 0/94 [00:00<?, ? examples/s]"
      ]
     },
     "metadata": {},
     "output_type": "display_data"
    }
   ],
   "source": [
    "tokenized_dataset = {\n",
    "    split: dataset.map(\n",
    "        lambda batch: preprocess(batch, tokenizer, USE_CUSTOM_EOS, MAX_INPUT_LENGTH, MAX_OUTPUT_LENGTH),\n",
    "        batched=True,\n",
    "        remove_columns=dataset.column_names\n",
    "    )\n",
    "    for split, dataset in dataset_dict.items()\n",
    "}"
   ]
  }
 ],
 "metadata": {
  "kernelspec": {
   "display_name": "myenv",
   "language": "python",
   "name": "python3"
  },
  "language_info": {
   "codemirror_mode": {
    "name": "ipython",
    "version": 3
   },
   "file_extension": ".py",
   "mimetype": "text/x-python",
   "name": "python",
   "nbconvert_exporter": "python",
   "pygments_lexer": "ipython3",
   "version": "3.12.3"
  }
 },
 "nbformat": 4,
 "nbformat_minor": 2
}
