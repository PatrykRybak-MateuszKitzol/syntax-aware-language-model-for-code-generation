{
 "cells": [
  {
   "cell_type": "code",
   "execution_count": 2,
   "id": "a21d7fe7",
   "metadata": {},
   "outputs": [],
   "source": [
    "import os\n",
    "import sys\n",
    "from pathlib import Path\n",
    "from datasets import load_dataset, Dataset\n",
    "\n",
    "root = Path().resolve().parent.parent\n",
    "sys.path.insert(0, str(root))\n",
    "\n",
    "from preprocessors.preprocessor import PreprocessingPipeline\n",
    "from preprocessors.preprocessor import RemoveComments\n",
    "from preprocessors.preprocessor import SyntaxValidator\n",
    "from preprocessors.preprocessor import DuplicateFilter\n",
    "from preprocessors.preprocessor import Pep8Formatter"
   ]
  },
  {
   "cell_type": "code",
   "execution_count": 15,
   "id": "6322f6fb",
   "metadata": {},
   "outputs": [
    {
     "name": "stdout",
     "output_type": "stream",
     "text": [
      "Number of samples before cleaning: 10\n"
     ]
    }
   ],
   "source": [
    "access_token = os.getenv(\"HUGGINGFACE_TOKEN\")\n",
    "\n",
    "dataset = load_dataset(\"Nan-Do/code-search-net-python\", token=access_token)[\"train\"]\n",
    "dataset = dataset.select(range(10))\n",
    "\n",
    "print(\"Number of samples before cleaning:\", len(dataset))"
   ]
  },
  {
   "cell_type": "code",
   "execution_count": null,
   "id": "de6d5f1a",
   "metadata": {},
   "outputs": [
    {
     "name": "stderr",
     "output_type": "stream",
     "text": [
      "Creating json from Arrow format: 100%|██████████| 1/1 [00:00<00:00, 249.63ba/s]"
     ]
    },
    {
     "name": "stdout",
     "output_type": "stream",
     "text": [
      "Number of samples after cleaning: 10\n"
     ]
    },
    {
     "name": "stderr",
     "output_type": "stream",
     "text": [
      "\n"
     ]
    }
   ],
   "source": [
    "pipeline = PreprocessingPipeline([\n",
    "    RemoveComments(),\n",
    "    DuplicateFilter(),\n",
    "    Pep8Formatter(),\n",
    "    SyntaxValidator()\n",
    "])\n",
    "\n",
    "dataset_cleaned = pipeline.apply(dataset)\n",
    "dataset_cleaned.to_json(\"preprocessed_dataset.json\")\n",
    "\n",
    "print(\"Number of samples after cleaning:\", len(dataset_cleaned))"
   ]
  }
 ],
 "metadata": {
  "kernelspec": {
   "display_name": "myenv",
   "language": "python",
   "name": "python3"
  },
  "language_info": {
   "codemirror_mode": {
    "name": "ipython",
    "version": 3
   },
   "file_extension": ".py",
   "mimetype": "text/x-python",
   "name": "python",
   "nbconvert_exporter": "python",
   "pygments_lexer": "ipython3",
   "version": "3.12.3"
  }
 },
 "nbformat": 4,
 "nbformat_minor": 5
}
